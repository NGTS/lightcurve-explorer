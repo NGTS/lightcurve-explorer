{
 "cells": [
  {
   "cell_type": "markdown",
   "metadata": {},
   "source": [
    "# Position dependency\n",
    "\n",
    "Compute the rms on the x and y positions for each lightcurve and look to see a trend on the chip."
   ]
  },
  {
   "cell_type": "code",
   "execution_count": null,
   "metadata": {
    "collapsed": true
   },
   "outputs": [],
   "source": [
    "%matplotlib inline\n",
    "\n",
    "import numpy as np\n",
    "import matplotlib.pyplot as plt\n",
    "import fitsio\n",
    "import seaborn as sns\n",
    "import sys\n",
    "sys.path.insert(0, '..')\n",
    "from binmodule import fast_bin\n",
    "import os\n",
    "from astropy.stats import sigma_clip\n",
    "from scipy.stats import binned_statistic_2d, spearmanr\n",
    "\n",
    "sns.set(context='poster', rc={'figure.figsize': (16, 10)})\n",
    "sns.set_palette('Paired', n_colors=12)\n",
    "colours = sns.color_palette()"
   ]
  },
  {
   "cell_type": "code",
   "execution_count": null,
   "metadata": {
    "collapsed": true
   },
   "outputs": [],
   "source": [
    "# Number of points to ignore from the beginning\n",
    "SKIP = 20"
   ]
  },
  {
   "cell_type": "code",
   "execution_count": null,
   "metadata": {
    "collapsed": false
   },
   "outputs": [],
   "source": [
    "fname = '/ngts/pipedev/ParanalOutput/nightly_data/20150909-ng2000-802-custom-flat-high-quality.fits'\n",
    "fname = os.environ.get('FILENAME', fname)\n",
    "\n",
    "print('Running on file %s' % fname)"
   ]
  },
  {
   "cell_type": "code",
   "execution_count": null,
   "metadata": {
    "collapsed": true
   },
   "outputs": [],
   "source": [
    "with fitsio.FITS(fname) as infile:\n",
    "    flux = infile['casudet'][:, SKIP:]\n",
    "    ccdx = infile['ccdx'][:, SKIP:]\n",
    "    ccdy = infile['ccdy'][:, SKIP:]\n",
    "    imagelist = infile['imagelist'].read()[SKIP:]"
   ]
  },
  {
   "cell_type": "code",
   "execution_count": null,
   "metadata": {
    "collapsed": true
   },
   "outputs": [],
   "source": [
    "# Distance from pixel 0, 0\n",
    "r = np.sqrt(ccdx ** 2 + ccdy ** 2)"
   ]
  },
  {
   "cell_type": "code",
   "execution_count": null,
   "metadata": {
    "collapsed": true
   },
   "outputs": [],
   "source": [
    "rms_x, rms_y, _ = [np.std(data, axis=1) for data in [ccdx, ccdy, r]]\n",
    "ptp_x, ptp_y, ptp_r = [np.ptp(data, axis=1) for data in [ccdx, ccdy, r]]\n",
    "med_x, med_y, _ = [np.median(data, axis=1) for data in [ccdx, ccdy, r]]\n",
    "rms_r = np.sqrt(rms_x ** 2 + rms_y ** 2)"
   ]
  },
  {
   "cell_type": "markdown",
   "metadata": {},
   "source": [
    "We now plot the raw statistics to see what the ranges are.\n",
    "\n",
    "### Movement histograms"
   ]
  },
  {
   "cell_type": "code",
   "execution_count": null,
   "metadata": {
    "collapsed": false
   },
   "outputs": [],
   "source": [
    "fig, axes = plt.subplots(1, 3, sharex=True)\n",
    "axes[0].hist(rms_x, 50)\n",
    "axes[1].hist(rms_y, 50)\n",
    "axes[2].hist(rms_r, 50)\n",
    "axes[0].set(title='X')\n",
    "axes[1].set(title='Y')\n",
    "axes[2].set(title='R')\n",
    "\n",
    "locator = plt.MultipleLocator(0.1)\n",
    "for ax in axes:\n",
    "    ax.set(xlabel='RMS / pixels')\n",
    "    ax.xaxis.set_major_locator(locator)\n",
    "\n",
    ";"
   ]
  },
  {
   "cell_type": "markdown",
   "metadata": {},
   "source": [
    "Note these are RMS calculations rather than the peak to peak estimate. The peak to peak is likely sensitive to outliers, which may mask any trends. Also the total shift is dominated by the X direction, which is the RA axis.\n",
    "\n",
    "## Spatial dependance"
   ]
  },
  {
   "cell_type": "code",
   "execution_count": null,
   "metadata": {
    "collapsed": false
   },
   "outputs": [],
   "source": [
    "fig, axis = plt.subplots()\n",
    "Q = axis.quiver(med_x, med_y, rms_x, rms_y, minlength=0.)\n",
    "axis.set(xlim=(0, 2047), ylim=(0, 2047), aspect='equal')\n",
    ";"
   ]
  },
  {
   "cell_type": "markdown",
   "metadata": {},
   "source": [
    "Clearly there is a spatial dependance here. Strangely the centre is slightly up and two the right in the chip. What is the astrometric reference pixel doing?\n",
    "\n",
    "### Reference pixel movement"
   ]
  },
  {
   "cell_type": "code",
   "execution_count": null,
   "metadata": {
    "collapsed": false,
    "scrolled": false
   },
   "outputs": [],
   "source": [
    "fig, axes = plt.subplots(3, 1, sharex=True)\n",
    "axes[0].plot(imagelist['TMID'], imagelist['CRPIX1'], '.')\n",
    "axes[1].plot(imagelist['TMID'], imagelist['CRPIX2'], '.')\n",
    "axes[2].plot(imagelist['TMID'], imagelist['AIRMASS'], '.')\n",
    "axes[0].set(ylabel='X')\n",
    "axes[1].set(ylabel='Y')\n",
    "axes[2].set(ylabel='Airmass')\n",
    "axes[-1].set(xlabel='MJD')\n",
    "fig.tight_layout()"
   ]
  },
  {
   "cell_type": "markdown",
   "metadata": {},
   "source": [
    "Because the reference pixel shifts, compute the median central position and overlay on the quiver plot.\n",
    "\n",
    "### Movement with astrometric centre"
   ]
  },
  {
   "cell_type": "code",
   "execution_count": null,
   "metadata": {
    "collapsed": false
   },
   "outputs": [],
   "source": [
    "fig, axis = plt.subplots()\n",
    "Q = axis.quiver(med_x, med_y, rms_x, rms_y, minlength=0.)\n",
    "axis.set(xlim=(0, 2047), ylim=(0, 2047), aspect='equal')\n",
    "axis.scatter(np.median(imagelist['CRPIX1']), np.median(imagelist['CRPIX2']), c='r', s=100)\n",
    ";"
   ]
  },
  {
   "cell_type": "markdown",
   "metadata": {},
   "source": [
    "With larger arrows:\n",
    "\n",
    "### Larger arrows!"
   ]
  },
  {
   "cell_type": "code",
   "execution_count": null,
   "metadata": {
    "collapsed": false
   },
   "outputs": [],
   "source": [
    "fig, axis = plt.subplots()\n",
    "Q = axis.quiver(med_x, med_y, rms_x, rms_y, minlength=0., scale_units='xy', scale=0.01)\n",
    "axis.set(xlim=(0, 2047), ylim=(0, 2047), aspect='equal')\n",
    "axis.scatter(np.median(imagelist['CRPIX1']), np.median(imagelist['CRPIX2']), c='r', s=100)\n",
    ";"
   ]
  },
  {
   "cell_type": "markdown",
   "metadata": {},
   "source": [
    "This is in the low rms region, but certainly not at its centre. From the histograms above, the bulk shift is in the X axis. Stars in the bottom right are shifting right, as are the stars in the top left. The reference pixel is moving upwards constantly, but it is not clear that it is moving rightwards - it is a little hard to tell.\n",
    "\n",
    "Can we find the centre of the shift?"
   ]
  },
  {
   "cell_type": "code",
   "execution_count": null,
   "metadata": {
    "collapsed": true
   },
   "outputs": [],
   "source": [
    "def sigma_clip_average(data):\n",
    "    sc = sigma_clip(data)\n",
    "    return np.average(sc)"
   ]
  },
  {
   "cell_type": "markdown",
   "metadata": {},
   "source": [
    "### Movement centre"
   ]
  },
  {
   "cell_type": "code",
   "execution_count": null,
   "metadata": {
    "collapsed": false
   },
   "outputs": [],
   "source": [
    "bins = np.linspace(0, 2048, 33)[:-1]\n",
    "binned_rms, _, _, _ = binned_statistic_2d(\n",
    "    med_x, med_y, rms_r, bins=[bins, bins], statistic=sigma_clip_average)\n",
    "best_ind = np.where(binned_rms == binned_rms.min())\n",
    "\n",
    "least_movement_position = (\n",
    "    bins[best_ind[0][0]],\n",
    "    bins[best_ind[1][0]],\n",
    ")\n",
    "\n",
    "plt.contourf(bins[:-1], bins[:-1], np.ma.masked_invalid(binned_rms.T), 25)\n",
    "plt.colorbar()\n",
    "plt.scatter(least_movement_position[0], least_movement_position[1], c='r', s=100)\n",
    "plt.xlim(0, 2047)\n",
    "plt.ylim(0, 2047)\n",
    "print(least_movement_position)"
   ]
  },
  {
   "cell_type": "markdown",
   "metadata": {},
   "source": [
    "## Affect on the photometry\n",
    "\n",
    "Take a narrow strip in the frms diagram, and look at the frms as a function of position on the chip. First pick a suitable binning value to test with."
   ]
  },
  {
   "cell_type": "code",
   "execution_count": null,
   "metadata": {
    "collapsed": true
   },
   "outputs": [],
   "source": [
    "def mad_of_array(data, precomputed_median=None):\n",
    "    med = precomputed_median if precomputed_median is not None else np.median(data, axis=1)\n",
    "    return np.median(np.abs(data - med[:, np.newaxis]), axis=1)"
   ]
  },
  {
   "cell_type": "code",
   "execution_count": null,
   "metadata": {
    "collapsed": true
   },
   "outputs": [],
   "source": [
    "def compute_frms(arr, sigma=None, ind=None):\n",
    "    if sigma is not None:\n",
    "        arr = sigma_clip(arr, sig=sigma, axis=1)\n",
    "    \n",
    "    if ind is None:\n",
    "        ind = np.all(np.isfinite(arr), axis=1)\n",
    "        \n",
    "    med_flux = np.median(arr[ind], axis=1)\n",
    "    mad_flux = mad_of_array(arr[ind], precomputed_median=med_flux)\n",
    "    frms = 1.48 * mad_flux / med_flux\n",
    "    return med_flux, frms, ind"
   ]
  },
  {
   "cell_type": "code",
   "execution_count": null,
   "metadata": {
    "collapsed": true
   },
   "outputs": [],
   "source": [
    "def mad(data, precomputed_median=None):\n",
    "    median = precomputed_median if precomputed_median is not None else np.median(data)\n",
    "    return np.median(np.abs(data - median))"
   ]
  },
  {
   "cell_type": "code",
   "execution_count": null,
   "metadata": {
    "collapsed": true
   },
   "outputs": [],
   "source": [
    "def plot_binned_frms(flux, points_per_bin, axis, left_edges=None, right_edges=None, **kwargs):\n",
    "    binned_flux = fast_bin(flux, points_per_bin)\n",
    "    \n",
    "    ind = np.all(np.isfinite(binned_flux), axis=1)\n",
    "    med_unbinned_flux = np.median(flux[ind], axis=1)\n",
    "    selected_binned_flux = binned_flux[ind]\n",
    "    \n",
    "    med_flux, frms, _ = compute_frms(selected_binned_flux)\n",
    "    axis.loglog(med_flux, frms, '.', **kwargs)\n",
    "    \n",
    "    x, y, e = [], [], []\n",
    "    if left_edges is not None and right_edges is not None:\n",
    "        for (l, r) in zip(left_edges, right_edges):\n",
    "            x.append(10 ** ((np.log10(l) + np.log10(r)) / 2.))\n",
    "            bin_ind = (med_unbinned_flux >= l) & (med_unbinned_flux < r)\n",
    "            subset = selected_binned_flux[bin_ind]\n",
    "            \n",
    "            med_subset, frms_subset, _ = compute_frms(subset)\n",
    "\n",
    "            sc_frms_subset = sigma_clip(frms_subset)\n",
    "            y.append(np.median(sc_frms_subset))\n",
    "            e.append(1.48 * mad(sc_frms_subset) / np.sqrt(sc_frms_subset.data[~sc_frms_subset.mask].size))\n",
    "            \n",
    "    axis.errorbar(x, y, e, ls='None', marker='.', capsize=0.)\n",
    "    \n",
    "    return [np.array(data) for data in [x, y, e]]"
   ]
  },
  {
   "cell_type": "code",
   "execution_count": null,
   "metadata": {
    "collapsed": false
   },
   "outputs": [],
   "source": [
    "bin_values = np.unique(np.logspace(0, 2, 9).astype(int))"
   ]
  },
  {
   "cell_type": "code",
   "execution_count": null,
   "metadata": {
    "collapsed": true
   },
   "outputs": [],
   "source": [
    "left_edges = 10 ** np.linspace(2, 5, 10)[:-1]\n",
    "right_edges = 10 ** (np.log10(left_edges) + 3. / 9.)"
   ]
  },
  {
   "cell_type": "markdown",
   "metadata": {},
   "source": [
    "### Binning"
   ]
  },
  {
   "cell_type": "code",
   "execution_count": null,
   "metadata": {
    "collapsed": false
   },
   "outputs": [],
   "source": [
    "fig, axes = plt.subplots(2, 4, sharex=True, sharey=True)\n",
    "\n",
    "binned_stats = []\n",
    "for (bin_value, ax) in zip(bin_values, axes.flatten()):\n",
    "    x, y, e = plot_binned_frms(flux, bin_value, ax, left_edges=left_edges, right_edges=right_edges, ms=2)\n",
    "    binned_stats.append((x, y, e))\n",
    "    ax.set(title=bin_value, xlim=(1E3, 1E7), ylim=(1E-4, 1E-2))\n",
    "fig.tight_layout()"
   ]
  },
  {
   "cell_type": "markdown",
   "metadata": {},
   "source": [
    "Interestingly the stars above about 5E4 get stuck, whereas the stars around 1E4 don't. Let's overlay the binned noise values"
   ]
  },
  {
   "cell_type": "code",
   "execution_count": null,
   "metadata": {
    "collapsed": true
   },
   "outputs": [],
   "source": [
    "binned_array = np.vstack([row[1] for row in binned_stats]).T\n",
    "brightnesses = binned_stats[0][0]\n",
    "binned_x = np.vstack([np.ones(binned_array.shape[0]) * v for v in bin_values]).T"
   ]
  },
  {
   "cell_type": "markdown",
   "metadata": {},
   "source": [
    "### Binned noise"
   ]
  },
  {
   "cell_type": "code",
   "execution_count": null,
   "metadata": {
    "collapsed": false
   },
   "outputs": [],
   "source": [
    "fig, axis = plt.subplots()\n",
    "for (bx, by, brightness) in zip(binned_x, binned_array, brightnesses):\n",
    "    axis.loglog(bx, by, label='{:.0f}'.format(brightness))\n",
    "axis.legend(loc='best')\n",
    "axis.set(xlim=(1, 100), ylim=(1E-4, 1E0))"
   ]
  },
  {
   "cell_type": "markdown",
   "metadata": {},
   "source": [
    "We pick the 1E4 to 2E4 range, and binning value 100."
   ]
  },
  {
   "cell_type": "code",
   "execution_count": null,
   "metadata": {
    "collapsed": true
   },
   "outputs": [],
   "source": [
    "bin_limits = (1E4, 2E4)\n",
    "bin_value = 100"
   ]
  },
  {
   "cell_type": "code",
   "execution_count": null,
   "metadata": {
    "collapsed": true
   },
   "outputs": [],
   "source": [
    "ind = np.all(np.isfinite(flux), axis=1)\n",
    "valid_flux = flux[ind]\n",
    "valid_ccdx, valid_ccdy = [data[ind] for data in [ccdx, ccdy]]\n",
    "valid_med = np.median(valid_flux, axis=1)"
   ]
  },
  {
   "cell_type": "code",
   "execution_count": null,
   "metadata": {
    "collapsed": true
   },
   "outputs": [],
   "source": [
    "chosen_ind = (valid_med >= bin_limits[0]) & (valid_med < bin_limits[1])\n",
    "chosen_flux = valid_flux[chosen_ind]\n",
    "chosen_ccdx, chosen_ccdy = [data[chosen_ind] for data in [valid_ccdx, valid_ccdy]]"
   ]
  },
  {
   "cell_type": "code",
   "execution_count": null,
   "metadata": {
    "collapsed": false
   },
   "outputs": [],
   "source": [
    "binned_flux = fast_bin(chosen_flux, bin_value)\n",
    "binned_med, binned_frms, ind = compute_frms(binned_flux, sigma=3.)\n",
    "filtered_ccdx, filtered_ccdy = [data[ind] for data in [chosen_ccdx, chosen_ccdy]]\n",
    "assert binned_frms.size == filtered_ccdx.shape[0] == filtered_ccdy.shape[0]"
   ]
  },
  {
   "cell_type": "code",
   "execution_count": null,
   "metadata": {
    "collapsed": true
   },
   "outputs": [],
   "source": [
    "med_x, med_y = [np.median(data, axis=1) for data in [filtered_ccdx, filtered_ccdy]]"
   ]
  },
  {
   "cell_type": "markdown",
   "metadata": {},
   "source": [
    "### Spatial dependance"
   ]
  },
  {
   "cell_type": "code",
   "execution_count": null,
   "metadata": {
    "collapsed": false
   },
   "outputs": [],
   "source": [
    "plt.scatter(med_x, med_y, c=np.log10(binned_frms), s=100, cmap='afmhot')\n",
    "plt.colorbar()\n",
    "plt.xlim(0, 2047)\n",
    "plt.ylim(0, 2047)\n",
    "plt.tight_layout()"
   ]
  },
  {
   "cell_type": "code",
   "execution_count": null,
   "metadata": {
    "collapsed": true
   },
   "outputs": [],
   "source": [
    "r = np.sqrt((med_x - least_movement_position[0]) ** 2 + (med_y - least_movement_position[1]) ** 2)"
   ]
  },
  {
   "cell_type": "markdown",
   "metadata": {},
   "source": [
    "### Correlation"
   ]
  },
  {
   "cell_type": "code",
   "execution_count": null,
   "metadata": {
    "collapsed": true
   },
   "outputs": [],
   "source": [
    "def sigma_clipped_fit(x, y, order=1, sigma=3):\n",
    "    initial_fit = np.poly1d(np.polyfit(x, y, order))\n",
    "    resids = y - initial_fit(x)\n",
    "    sc = sigma_clip(resids, sig=sigma)\n",
    "    valid_ind = ~sc.mask\n",
    "    return np.poly1d(np.polyfit(x[valid_ind], y[valid_ind], order))"
   ]
  },
  {
   "cell_type": "code",
   "execution_count": null,
   "metadata": {
    "collapsed": false
   },
   "outputs": [],
   "source": [
    "fig, axis = plt.subplots()\n",
    "axis.semilogy(r, binned_frms, '.')\n",
    "axis.set(xlabel='R', ylabel='Binned FRMS')\n",
    "sr, p = spearmanr(r, np.log10(binned_frms))\n",
    "axis.text(0.98, 0.98, 'SR: {:.2f}, p: {:.3e}'.format(sr, p),\n",
    "          transform=axis.transAxes, ha='right', va='top', fontsize=32)\n",
    "fit = sigma_clipped_fit(r, np.log10(binned_frms), order=1)\n",
    "print(fit.c)\n",
    "test_r = np.linspace(0, r.max(), 10)\n",
    "axis.plot(test_r, 10 ** fit(test_r), ls=':', color=colours[3])\n",
    "axis.set(xlim=(0, 1800), ylim=(1E-4, 1E0))"
   ]
  },
  {
   "cell_type": "markdown",
   "metadata": {},
   "source": [
    "It looks like there is a correlation here. Therefore we need to be really hot on field rotation and chip movement."
   ]
  }
 ],
 "metadata": {
  "kernelspec": {
   "display_name": "Python 3",
   "language": "python",
   "name": "python3"
  },
  "language_info": {
   "codemirror_mode": {
    "name": "ipython",
    "version": 3
   },
   "file_extension": ".py",
   "mimetype": "text/x-python",
   "name": "python",
   "nbconvert_exporter": "python",
   "pygments_lexer": "ipython3",
   "version": "3.5.0"
  }
 },
 "nbformat": 4,
 "nbformat_minor": 0
}
